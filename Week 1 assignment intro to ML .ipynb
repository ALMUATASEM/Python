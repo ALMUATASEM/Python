{
 "cells": [
  {
   "cell_type": "code",
   "execution_count": 54,
   "id": "7afe4e1d",
   "metadata": {},
   "outputs": [
    {
     "name": "stdout",
     "output_type": "stream",
     "text": [
      "Friday\n"
     ]
    }
   ],
   "source": [
    "int1 = 10\n",
    "var2 = 20\n",
    "day =\"Friday\"\n",
    "print(day)"
   ]
  },
  {
   "cell_type": "code",
   "execution_count": 9,
   "id": "030b2314",
   "metadata": {},
   "outputs": [
    {
     "data": {
      "text/plain": [
       "list"
      ]
     },
     "execution_count": 9,
     "metadata": {},
     "output_type": "execute_result"
    }
   ],
   "source": [
    "#list of \n",
    "int1 = 11\n",
    "int2 = 38\n",
    "int3 = 49\n",
    "int4 = 66\n",
    "\n",
    "list_int =[11,38,49,66]\n",
    "type(list_int)\n"
   ]
  },
  {
   "cell_type": "code",
   "execution_count": 12,
   "id": "e6b7ff8d",
   "metadata": {},
   "outputs": [
    {
     "data": {
      "text/plain": [
       "49"
      ]
     },
     "execution_count": 12,
     "metadata": {},
     "output_type": "execute_result"
    }
   ],
   "source": [
    "list_int[2] #print the seconed number in array"
   ]
  },
  {
   "cell_type": "code",
   "execution_count": 11,
   "id": "ea008c0b",
   "metadata": {},
   "outputs": [
    {
     "data": {
      "text/plain": [
       "66"
      ]
     },
     "execution_count": 11,
     "metadata": {},
     "output_type": "execute_result"
    }
   ],
   "source": [
    "list_int[-1]"
   ]
  },
  {
   "cell_type": "code",
   "execution_count": 22,
   "id": "91c26015",
   "metadata": {},
   "outputs": [
    {
     "data": {
      "text/plain": [
       "[11, 38, 49, 66]"
      ]
     },
     "execution_count": 22,
     "metadata": {},
     "output_type": "execute_result"
    }
   ],
   "source": [
    "list_int[0:5]"
   ]
  },
  {
   "cell_type": "code",
   "execution_count": 24,
   "id": "46831a17",
   "metadata": {},
   "outputs": [
    {
     "name": "stdout",
     "output_type": "stream",
     "text": [
      "[11, 38, 49, 66, 88, 88]\n"
     ]
    }
   ],
   "source": [
    "list_int.append(88) #Add a number\n",
    "print(list_int)"
   ]
  },
  {
   "cell_type": "code",
   "execution_count": 25,
   "id": "4964a72d",
   "metadata": {},
   "outputs": [],
   "source": [
    "list_int.remove (66) #Delete the specified number"
   ]
  },
  {
   "cell_type": "code",
   "execution_count": 26,
   "id": "17896353",
   "metadata": {},
   "outputs": [
    {
     "name": "stdout",
     "output_type": "stream",
     "text": [
      "[11, 38, 49, 88, 88]\n"
     ]
    }
   ],
   "source": [
    "print(list_int)"
   ]
  },
  {
   "cell_type": "code",
   "execution_count": 27,
   "id": "576ccf90",
   "metadata": {},
   "outputs": [],
   "source": [
    "list_int.remove (88) #Delete the specified number"
   ]
  },
  {
   "cell_type": "code",
   "execution_count": 28,
   "id": "2ca14b72",
   "metadata": {},
   "outputs": [
    {
     "name": "stdout",
     "output_type": "stream",
     "text": [
      "[11, 38, 49, 88]\n"
     ]
    }
   ],
   "source": [
    "print(list_int)"
   ]
  },
  {
   "cell_type": "code",
   "execution_count": 29,
   "id": "13cb00e3",
   "metadata": {},
   "outputs": [
    {
     "name": "stdout",
     "output_type": "stream",
     "text": [
      "[88, 49, 38, 11]\n"
     ]
    }
   ],
   "source": [
    "list_int.reverse() #Reverse the order of the numbers\n",
    "print(list_int)"
   ]
  },
  {
   "cell_type": "code",
   "execution_count": 35,
   "id": "31b42db7",
   "metadata": {},
   "outputs": [],
   "source": [
    "list_int.sort() #Arranged from smallest to largest "
   ]
  },
  {
   "cell_type": "markdown",
   "id": "fbd07a58",
   "metadata": {},
   "source": [
    "print(list_int)"
   ]
  },
  {
   "cell_type": "code",
   "execution_count": 33,
   "id": "49ca2eb3",
   "metadata": {},
   "outputs": [
    {
     "name": "stdout",
     "output_type": "stream",
     "text": [
      "1\n",
      "2\n",
      "3\n",
      "4\n",
      "5\n",
      "6\n"
     ]
    }
   ],
   "source": [
    "for each in range (1,7):\n",
    "    print(each)"
   ]
  },
  {
   "cell_type": "code",
   "execution_count": 44,
   "id": "ba41c6f9",
   "metadata": {},
   "outputs": [
    {
     "name": "stdout",
     "output_type": "stream",
     "text": [
      "88\n"
     ]
    }
   ],
   "source": [
    "minimum = 11 \n",
    "for each in list_int:\n",
    "    if(each>minimum):\n",
    "        minimum = each \n",
    "    else:\n",
    "        continue \n",
    "print(minimum)"
   ]
  },
  {
   "cell_type": "code",
   "execution_count": 48,
   "id": "1fb78df0",
   "metadata": {},
   "outputs": [
    {
     "name": "stdout",
     "output_type": "stream",
     "text": [
      "0\n",
      "1\n",
      "2\n"
     ]
    }
   ],
   "source": [
    "i=0\n",
    "while(i<3):\n",
    "    print(i)\n",
    "    i=i+1"
   ]
  },
  {
   "cell_type": "code",
   "execution_count": 49,
   "id": "6cfa21d3",
   "metadata": {},
   "outputs": [
    {
     "name": "stdout",
     "output_type": "stream",
     "text": [
      "9\n",
      "4\n"
     ]
    }
   ],
   "source": [
    "def calculate(x):\n",
    "    output = x*x\n",
    "    return output\n",
    "num1 = calculate(3)\n",
    "print(num1)\n",
    "\n",
    "num2 = lambda x: x*x\n",
    "print(num2(2))"
   ]
  },
  {
   "cell_type": "code",
   "execution_count": 50,
   "id": "e52aa3cb",
   "metadata": {},
   "outputs": [
    {
     "name": "stdout",
     "output_type": "stream",
     "text": [
      "{'khalid': 25, 'mohammed': 20, 'omer': 29}\n"
     ]
    }
   ],
   "source": [
    "dict ={\"khalid\":25,\"mohammed\":20,\"omer\":29}\n",
    "print(dict)"
   ]
  },
  {
   "cell_type": "code",
   "execution_count": 52,
   "id": "1511e200",
   "metadata": {},
   "outputs": [
    {
     "data": {
      "text/plain": [
       "dict_values([25, 20, 29])"
      ]
     },
     "execution_count": 52,
     "metadata": {},
     "output_type": "execute_result"
    }
   ],
   "source": [
    "dict.values()"
   ]
  },
  {
   "cell_type": "code",
   "execution_count": 53,
   "id": "b9ae7212",
   "metadata": {},
   "outputs": [
    {
     "data": {
      "text/plain": [
       "dict_keys(['khalid', 'mohammed', 'omer'])"
      ]
     },
     "execution_count": 53,
     "metadata": {},
     "output_type": "execute_result"
    }
   ],
   "source": [
    "dict.keys()"
   ]
  },
  {
   "cell_type": "code",
   "execution_count": null,
   "id": "a922a8d8",
   "metadata": {},
   "outputs": [],
   "source": []
  }
 ],
 "metadata": {
  "kernelspec": {
   "display_name": "Python 3 (ipykernel)",
   "language": "python",
   "name": "python3"
  },
  "language_info": {
   "codemirror_mode": {
    "name": "ipython",
    "version": 3
   },
   "file_extension": ".py",
   "mimetype": "text/x-python",
   "name": "python",
   "nbconvert_exporter": "python",
   "pygments_lexer": "ipython3",
   "version": "3.9.13"
  }
 },
 "nbformat": 4,
 "nbformat_minor": 5
}
