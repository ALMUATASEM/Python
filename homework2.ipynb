{
 "cells": [
  {
   "cell_type": "code",
   "execution_count": 3,
   "id": "6736aa5a",
   "metadata": {},
   "outputs": [
    {
     "name": "stdout",
     "output_type": "stream",
     "text": [
      "0.666767\n"
     ]
    }
   ],
   "source": [
    "import random\n",
    "\n",
    "n = 1000000\n",
    "count = 0\n",
    "for i in range(n):\n",
    "    doors = [1,2,3]  \n",
    "    # the inital doors that monty can choose\n",
    "    monty_choose = [1,2,3]\n",
    "    # suppose the car is behind door 1\n",
    "    car = 1   \n",
    "    # monty cannot choose the door that has car\n",
    "    \n",
    "    monty_choose.remove(car)    \n",
    "    ichoose = random.choice(doors)  \n",
    "    if ichoose in monty_choose:\n",
    "        # monty cannot choose the door i select\n",
    "        monty_choose.remove(ichoose) \n",
    "        monty = random.choice(monty_choose)\n",
    "    else:\n",
    "        monty = random.choice(monty_choose)\n",
    "    # i cannot choose the door that monty chose  \n",
    "    doors.remove(monty)  \n",
    "    \n",
    "    \n",
    "    doors.remove(ichoose)\n",
    "    \n",
    "    if doors[0] == car:\n",
    "        count = count + 1 \n",
    "        \n",
    "        \n",
    "print(count/n)"
   ]
  },
  {
   "cell_type": "code",
   "execution_count": null,
   "id": "bd628aa1",
   "metadata": {},
   "outputs": [],
   "source": []
  }
 ],
 "metadata": {
  "kernelspec": {
   "display_name": "Python 3 (ipykernel)",
   "language": "python",
   "name": "python3"
  },
  "language_info": {
   "codemirror_mode": {
    "name": "ipython",
    "version": 3
   },
   "file_extension": ".py",
   "mimetype": "text/x-python",
   "name": "python",
   "nbconvert_exporter": "python",
   "pygments_lexer": "ipython3",
   "version": "3.9.13"
  }
 },
 "nbformat": 4,
 "nbformat_minor": 5
}
